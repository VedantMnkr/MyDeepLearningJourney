{
 "cells": [
  {
   "cell_type": "code",
   "execution_count": 14,
   "metadata": {},
   "outputs": [],
   "source": [
    "import numpy as np\n",
    "import time as time\n"
   ]
  },
  {
   "cell_type": "code",
   "execution_count": 11,
   "metadata": {},
   "outputs": [],
   "source": [
    "a = np.random.rand(1000)\n",
    "b = np.random.rand(1000)\n"
   ]
  },
  {
   "cell_type": "code",
   "execution_count": 23,
   "metadata": {},
   "outputs": [
    {
     "name": "stdout",
     "output_type": "stream",
     "text": [
      "vectorized version took 0.0ms time and result is 242.8740710644217\n"
     ]
    }
   ],
   "source": [
    "#calculating vector with dot product\n",
    "tic = time.time()\n",
    "c = np.dot(a,b)\n",
    "toc = time.time()\n",
    "print(f'vectorized version took {toc-tic}ms time and result is {c}')"
   ]
  },
  {
   "cell_type": "code",
   "execution_count": 22,
   "metadata": {},
   "outputs": [
    {
     "name": "stdout",
     "output_type": "stream",
     "text": [
      "For loop version took 0.000997304916381836ms time and result is 242.87407106442177\n"
     ]
    }
   ],
   "source": [
    "#using for loop to get the dot product\n",
    "k = 0\n",
    "tic = time.time()\n",
    "\n",
    "for i in range(len(a)):\n",
    "    k += a[i]*b[i]\n",
    "toc = time.time()\n",
    "\n",
    "print(f'For loop version took {toc-tic}ms time and result is {k}')"
   ]
  }
 ],
 "metadata": {
  "kernelspec": {
   "display_name": "Python 3",
   "language": "python",
   "name": "python3"
  },
  "language_info": {
   "codemirror_mode": {
    "name": "ipython",
    "version": 3
   },
   "file_extension": ".py",
   "mimetype": "text/x-python",
   "name": "python",
   "nbconvert_exporter": "python",
   "pygments_lexer": "ipython3",
   "version": "3.11.2"
  },
  "orig_nbformat": 4
 },
 "nbformat": 4,
 "nbformat_minor": 2
}
