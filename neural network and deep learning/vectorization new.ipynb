{
  "nbformat": 4,
  "nbformat_minor": 0,
  "metadata": {
    "colab": {
      "provenance": []
    },
    "kernelspec": {
      "name": "python3",
      "display_name": "Python 3"
    },
    "language_info": {
      "name": "python"
    }
  },
  "cells": [
    {
      "cell_type": "code",
      "execution_count": 3,
      "metadata": {
        "id": "OtNC2FQr0GcB"
      },
      "outputs": [],
      "source": [
        "import numpy as np\n",
        "import time as time"
      ]
    },
    {
      "cell_type": "code",
      "source": [
        "#using logistic regression for the purpose of demonstraing vectorization\n",
        "\n",
        "# creating arrays \n",
        "x = np.random.rand(1000000)\n",
        "w = np.random.rand(1000000)\n",
        "z=0\n",
        "\n",
        "#checking time for 'for loop'\n",
        "t = time.time()\n",
        "for i in range(1000000):\n",
        "  z += w[i]*x[i]\n",
        "duration = time.time() - t\n",
        "print(f'time taken [for loop] : {duration*1000}ms')\n",
        "\n",
        "#using vectorization with numpy library\n",
        "z=0\n",
        "t = time.time()\n",
        "n = np.dot(w,x)\n",
        "duration = time.time() - t\n",
        "print(f'time taken [vectorization] : {duration*1000}ms')"
      ],
      "metadata": {
        "colab": {
          "base_uri": "https://localhost:8080/"
        },
        "id": "5QyrnC2p0vva",
        "outputId": "e11182fa-0d33-4a54-9a57-6b5fd773881a"
      },
      "execution_count": 7,
      "outputs": [
        {
          "output_type": "stream",
          "name": "stdout",
          "text": [
            "time taken [for loop] : 402.3869037628174ms\n",
            "time taken [vectorization] : 1.4567375183105469ms\n"
          ]
        }
      ]
    }
  ]
}