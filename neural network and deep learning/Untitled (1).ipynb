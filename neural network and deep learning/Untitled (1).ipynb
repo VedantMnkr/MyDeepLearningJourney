{
  "nbformat": 4,
  "nbformat_minor": 0,
  "metadata": {
    "colab": {
      "provenance": []
    },
    "kernelspec": {
      "name": "python3",
      "display_name": "Python 3"
    },
    "language_info": {
      "name": "python"
    },
    "gpuClass": "standard"
  },
  "cells": [
    {
      "cell_type": "code",
      "execution_count": 2,
      "metadata": {
        "id": "OtNC2FQr0GcB"
      },
      "outputs": [],
      "source": [
        "import numpy as np\n",
        "import time as time"
      ]
    },
    {
      "cell_type": "code",
      "source": [
        "#using logistic regression for the purpose of demonstrating vectorization\n",
        "\n",
        "# creating arrays \n",
        "x = np.random.rand(10000)\n",
        "w = np.random.rand(10000)\n",
        "u = np.zeros((10000,1))\n",
        "mat = np.random.rand(10000,10000)\n",
        "v = np.random.rand(10000,1)\n",
        "\n"
      ],
      "metadata": {
        "colab": {
          "base_uri": "https://localhost:8080/"
        },
        "id": "5QyrnC2p0vva",
        "outputId": "59a8e20e-8d47-4ec2-af68-dbf9ad6a93d4"
      },
      "execution_count": 11,
      "outputs": [
        {
          "output_type": "execute_result",
          "data": {
            "text/plain": [
              "array([[2508.60662566],\n",
              "       [2504.89390813],\n",
              "       [2482.80646231],\n",
              "       ...,\n",
              "       [2515.98833188],\n",
              "       [2471.65172416],\n",
              "       [2505.04076534]])"
            ]
          },
          "metadata": {},
          "execution_count": 11
        }
      ]
    },
    {
      "cell_type": "code",
      "source": [
        "#matrix multiplication\n",
        "mat_mul = np.dot(mat, v)\n",
        "mat_mul\n",
        "\n",
        "#using loop \n",
        " \n",
        "for i in range(10000):\n",
        "  for j in range(10000):\n",
        "    u[i] += mat[i][j] * v[j]\n",
        "u"
      ],
      "metadata": {
        "colab": {
          "base_uri": "https://localhost:8080/"
        },
        "id": "9cPDsxzk7Sor",
        "outputId": "8a65e91b-4229-4c61-e00b-b3d1c5a1acc7"
      },
      "execution_count": 12,
      "outputs": [
        {
          "output_type": "execute_result",
          "data": {
            "text/plain": [
              "array([[2508.60662566],\n",
              "       [2504.89390813],\n",
              "       [2482.80646231],\n",
              "       ...,\n",
              "       [2515.98833188],\n",
              "       [2471.65172416],\n",
              "       [2505.04076534]])"
            ]
          },
          "metadata": {},
          "execution_count": 12
        }
      ]
    }
  ]
}